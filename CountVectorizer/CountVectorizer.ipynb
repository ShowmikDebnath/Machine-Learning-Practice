{
 "cells": [
  {
   "cell_type": "code",
   "execution_count": 1,
   "id": "c014bc11",
   "metadata": {},
   "outputs": [],
   "source": [
    "# CountVectorizer is part of Data-Preprocessing\n",
    "# It use when the data is a meaingfull stantance"
   ]
  },
  {
   "cell_type": "code",
   "execution_count": 2,
   "id": "e36078ae",
   "metadata": {},
   "outputs": [],
   "source": [
    "from sklearn.feature_extraction.text import CountVectorizer"
   ]
  },
  {
   "cell_type": "code",
   "execution_count": 13,
   "id": "184e7519",
   "metadata": {},
   "outputs": [],
   "source": [
    "dataset = [\n",
    "    'Hey Welcome to the Leading University',\n",
    "    'Hey I am Showmik Debnath',\n",
    "    'I Love Data Science',\n",
    "    'Please subscibe to to to to to aiQuest',\n",
    "]"
   ]
  },
  {
   "cell_type": "code",
   "execution_count": 14,
   "id": "5b2db416",
   "metadata": {},
   "outputs": [],
   "source": [
    "cv = CountVectorizer()\n",
    "x = cv.fit_transform(dataset)"
   ]
  },
  {
   "cell_type": "code",
   "execution_count": 15,
   "id": "911c2941",
   "metadata": {},
   "outputs": [
    {
     "data": {
      "text/plain": [
       "['aiquest',\n",
       " 'am',\n",
       " 'data',\n",
       " 'debnath',\n",
       " 'hey',\n",
       " 'leading',\n",
       " 'love',\n",
       " 'please',\n",
       " 'science',\n",
       " 'showmik',\n",
       " 'subscibe',\n",
       " 'the',\n",
       " 'to',\n",
       " 'university',\n",
       " 'welcome']"
      ]
     },
     "execution_count": 15,
     "metadata": {},
     "output_type": "execute_result"
    }
   ],
   "source": [
    "cv.get_feature_names()"
   ]
  },
  {
   "cell_type": "code",
   "execution_count": 16,
   "id": "022f6c8e",
   "metadata": {},
   "outputs": [
    {
     "data": {
      "text/plain": [
       "array([[0, 0, 0, 0, 1, 1, 0, 0, 0, 0, 0, 1, 1, 1, 1],\n",
       "       [0, 1, 0, 1, 1, 0, 0, 0, 0, 1, 0, 0, 0, 0, 0],\n",
       "       [0, 0, 1, 0, 0, 0, 1, 0, 1, 0, 0, 0, 0, 0, 0],\n",
       "       [1, 0, 0, 0, 0, 0, 0, 1, 0, 0, 1, 0, 5, 0, 0]], dtype=int64)"
      ]
     },
     "execution_count": 16,
     "metadata": {},
     "output_type": "execute_result"
    }
   ],
   "source": [
    "x.toarray()"
   ]
  },
  {
   "cell_type": "code",
   "execution_count": null,
   "id": "7bfaddb5",
   "metadata": {},
   "outputs": [],
   "source": []
  }
 ],
 "metadata": {
  "kernelspec": {
   "display_name": "Python 3 (ipykernel)",
   "language": "python",
   "name": "python3"
  },
  "language_info": {
   "codemirror_mode": {
    "name": "ipython",
    "version": 3
   },
   "file_extension": ".py",
   "mimetype": "text/x-python",
   "name": "python",
   "nbconvert_exporter": "python",
   "pygments_lexer": "ipython3",
   "version": "3.9.13"
  }
 },
 "nbformat": 4,
 "nbformat_minor": 5
}
